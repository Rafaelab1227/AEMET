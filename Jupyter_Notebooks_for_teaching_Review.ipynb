{
  "nbformat": 4,
  "nbformat_minor": 0,
  "metadata": {
    "colab": {
      "name": "Jupyter Notebooks for teaching Review",
      "provenance": [],
      "collapsed_sections": [],
      "authorship_tag": "ABX9TyN48kl8YwzaAmbtkMB44Ows",
      "include_colab_link": true
    },
    "kernelspec": {
      "name": "python3",
      "display_name": "Python 3"
    }
  },
  "cells": [
    {
      "cell_type": "markdown",
      "metadata": {
        "id": "view-in-github",
        "colab_type": "text"
      },
      "source": [
        "<a href=\"https://colab.research.google.com/github/Rafaelab1227/AEMET/blob/main/Jupyter_Notebooks_for_teaching_Review.ipynb\" target=\"_parent\"><img src=\"https://colab.research.google.com/assets/colab-badge.svg\" alt=\"Open In Colab\"/></a>"
      ]
    },
    {
      "cell_type": "code",
      "metadata": {
        "colab": {
          "base_uri": "https://localhost:8080/",
          "height": 38
        },
        "id": "5vp2FE5lF_fe",
        "outputId": "032e0202-fbd6-412b-84d8-95f8985b74d8"
      },
      "source": [
        "%%html\r\n",
        "<marquee style='width: 90%; color: pink;'><b>Review</b></marquee>"
      ],
      "execution_count": 1,
      "outputs": [
        {
          "output_type": "display_data",
          "data": {
            "text/html": [
              "<marquee style='width: 90%; color: pink;'><b>Review</b></marquee>"
            ],
            "text/plain": [
              "<IPython.core.display.HTML object>"
            ]
          },
          "metadata": {
            "tags": []
          }
        }
      ]
    },
    {
      "cell_type": "markdown",
      "metadata": {
        "id": "95yXs079Ek51"
      },
      "source": [
        "##**Jupyter Notebooks in education**\r\n",
        "\r\n",
        "\r\n",
        "---\r\n"
      ]
    },
    {
      "cell_type": "code",
      "metadata": {
        "colab": {
          "base_uri": "https://localhost:8080/"
        },
        "id": "DMc-SSiWEgRn",
        "outputId": "706517d1-9a66-4788-ddad-62c82402ec29"
      },
      "source": [
        "from google.colab import drive\r\n",
        "drive.mount('/content/drive')"
      ],
      "execution_count": null,
      "outputs": [
        {
          "output_type": "stream",
          "text": [
            "Drive already mounted at /content/drive; to attempt to forcibly remount, call drive.mount(\"/content/drive\", force_remount=True).\n"
          ],
          "name": "stdout"
        }
      ]
    },
    {
      "cell_type": "code",
      "metadata": {
        "colab": {
          "base_uri": "https://localhost:8080/",
          "height": 69
        },
        "id": "NNvTNDH8KnXL",
        "outputId": "28fd5649-f33d-4dae-dc59-f096285c48f7"
      },
      "source": [
        "%%html\r\n",
        "<p><span style=\"color: rgb(61, 142, 185)\">UC3M Digital</span></p>\r\n",
        "<p><span style=\"color: rgb(61, 142, 185)\">December 2020</span></p>"
      ],
      "execution_count": 2,
      "outputs": [
        {
          "output_type": "display_data",
          "data": {
            "text/html": [
              "<p><span style=\"color: rgb(61, 142, 185)\">UC3M Digital</span></p>\n",
              "<p><span style=\"color: rgb(61, 142, 185)\">December 2020</span></p>"
            ],
            "text/plain": [
              "<IPython.core.display.HTML object>"
            ]
          },
          "metadata": {
            "tags": []
          }
        }
      ]
    },
    {
      "cell_type": "markdown",
      "metadata": {
        "id": "AaPlWISpLT1w"
      },
      "source": [
        "## ¿Qué es un Jupyter Notebook?\r\n",
        "\r\n",
        "_\"Un Notebook que extiende el enfoque basado en consola para la computación interactiva en una dirección cualitativamente nueva, proporcionando una aplicación basada en la web adecuada para capturar todo el proceso de computación\"_\r\n",
        "\r\n",
        "Este proceso se basa en:\r\n",
        "\r\n",
        "![Proceso de Computación](https://drive.google.com/uc?id=1ks3lTzEUVYtcvdZrCP8IJ-7IfMqwM3XI)\r\n",
        "\r\n",
        "<!--<img src=\"https://drive.google.com/uc?id=1ks3lTzEUVYtcvdZrCP8IJ-7IfMqwM3XI\">-->\r\n"
      ]
    },
    {
      "cell_type": "markdown",
      "metadata": {
        "id": "THcxurLXJzJ8"
      },
      "source": [
        " Su nombre proviene de la conjugación de los lenguajes de programación Julia, Python, y R."
      ]
    },
    {
      "cell_type": "code",
      "metadata": {
        "colab": {
          "base_uri": "https://localhost:8080/",
          "height": 66
        },
        "id": "OlilMB_jKCYS",
        "outputId": "258aa099-7d81-4809-ef9b-95cb2c923313"
      },
      "source": [
        "%%html\r\n",
        "<p><span style=\"font-size:30px ;color: rgb(61, 142, 185)\">Ju</span>\r\n",
        "  <span style=\"font-size:25px\">lia     </span>\r\n",
        "  <span style=\"font-size:30px ;color: rgb(61, 142, 185)\">  Py</span>\r\n",
        "  <span style=\"font-size:25px\">thon     </span>\r\n",
        "  <span style=\"font-size:30px ;color: rgb(61, 142, 185)\">  R</span>\r\n",
        "</p>"
      ],
      "execution_count": 12,
      "outputs": [
        {
          "output_type": "display_data",
          "data": {
            "text/html": [
              "<p><span style=\"font-size:30px ;color: rgb(61, 142, 185)\">Ju</span>\n",
              "  <span style=\"font-size:25px\">lia     </span>\n",
              "  <span style=\"font-size:30px ;color: rgb(61, 142, 185)\">  Py</span>\n",
              "  <span style=\"font-size:25px\">thon     </span>\n",
              "  <span style=\"font-size:30px ;color: rgb(61, 142, 185)\">  R</span>\n",
              "</p>"
            ],
            "text/plain": [
              "<IPython.core.display.HTML object>"
            ]
          },
          "metadata": {
            "tags": []
          }
        }
      ]
    },
    {
      "cell_type": "markdown",
      "metadata": {
        "id": "gI1s8j2IrKzW"
      },
      "source": [
        "Jupyter Notebooks promueve un amplio rango de metas de aprendizaje entre ellas el aprende a programar, incrementar el dominio del conocimiento, y practicar skills de comunicación como el \"story telling\". Específicamente se pueden encontrar varios beneficios asociados a cada tipo de usuario."
      ]
    },
    {
      "cell_type": "code",
      "metadata": {
        "colab": {
          "base_uri": "https://localhost:8080/",
          "height": 590
        },
        "id": "qyFEfk-uNH_u",
        "outputId": "dcb5b479-2093-45a0-ac22-adce7cb07abb"
      },
      "source": [
        "%%html\r\n",
        "\r\n",
        "<style type=\"text/css\">\r\n",
        ".tg  {border-collapse:collapse;border-spacing:0;}\r\n",
        ".tg td{border-color:black;border-style:solid;border-width:1px;font-family:Arial, sans-serif;font-size:14px;\r\n",
        "  overflow:hidden;padding:10px 5px;word-break:normal;}\r\n",
        ".tg th{border-color:black;border-style:solid;border-width:1px;font-family:Arial, sans-serif;font-size:14px;\r\n",
        "  font-weight:normal;overflow:hidden;padding:10px 5px;word-break:normal;}\r\n",
        ".tg .tg-snc9{background-color:#3d8eb9;color:#ffffff;text-align:center;vertical-align:bottom}\r\n",
        ".tg .tg-8d8j{text-align:center;vertical-align:bottom}\r\n",
        "</style>\r\n",
        "<table class=\"tg\">\r\n",
        "<thead>\r\n",
        "  <tr>\r\n",
        "    <th class=\"tg-snc9\">Beneficios del curso</th>\r\n",
        "  </tr>\r\n",
        "</thead>\r\n",
        "<tbody>\r\n",
        "  <tr>\r\n",
        "    <td class=\"tg-8d8j\">Compromiso</td>\r\n",
        "  </tr>\r\n",
        "  <tr>\r\n",
        "    <td class=\"tg-8d8j\">Participación</td>\r\n",
        "  </tr>\r\n",
        "  <tr>\r\n",
        "    <td class=\"tg-8d8j\">Mayor comprensión</td>\r\n",
        "  </tr>\r\n",
        "  <tr>\r\n",
        "    <td class=\"tg-8d8j\">Incrementar el desempeño de los estudiantes</td>\r\n",
        "  </tr>\r\n",
        "</tbody>\r\n",
        "</table>\r\n",
        "\r\n",
        "<style type=\"text/css\">\r\n",
        ".tg  {border-collapse:collapse;border-spacing:0;}\r\n",
        ".tg td{border-color:black;border-style:solid;border-width:1px;font-family:Arial, sans-serif;font-size:14px;\r\n",
        "  overflow:hidden;padding:10px 5px;word-break:normal;}\r\n",
        ".tg th{border-color:black;border-style:solid;border-width:1px;font-family:Arial, sans-serif;font-size:14px;\r\n",
        "  font-weight:normal;overflow:hidden;padding:10px 5px;word-break:normal;}\r\n",
        ".tg .tg-h1zv{background-color:#3d8eb9;color:#ffffff;text-align:left;vertical-align:bottom}\r\n",
        ".tg .tg-8d8j{text-align:center;vertical-align:bottom}\r\n",
        "</style>\r\n",
        "<table class=\"tg\">\r\n",
        "<thead>\r\n",
        "  <tr>\r\n",
        "    <th class=\"tg-h1zv\">Beneficios para estudiantes</th>\r\n",
        "  </tr>\r\n",
        "</thead>\r\n",
        "<tbody>\r\n",
        "  <tr>\r\n",
        "    <td class=\"tg-8d8j\">Pensamiento computacional</td>\r\n",
        "  </tr>\r\n",
        "  <tr>\r\n",
        "    <td class=\"tg-8d8j\">Open Source</td>\r\n",
        "  </tr>\r\n",
        "  <tr>\r\n",
        "    <td class=\"tg-8d8j\">Aprendizaje activo</td>\r\n",
        "  </tr>\r\n",
        "</tbody>\r\n",
        "</table>\r\n",
        "\r\n",
        "<style type=\"text/css\">\r\n",
        ".tg  {border-collapse:collapse;border-spacing:0;}\r\n",
        ".tg td{border-color:black;border-style:solid;border-width:1px;font-family:Arial, sans-serif;font-size:14px;\r\n",
        "  overflow:hidden;padding:10px 5px;word-break:normal;}\r\n",
        ".tg th{border-color:black;border-style:solid;border-width:1px;font-family:Arial, sans-serif;font-size:14px;\r\n",
        "  font-weight:normal;overflow:hidden;padding:10px 5px;word-break:normal;}\r\n",
        ".tg .tg-snc9{background-color:#3d8eb9;color:#ffffff;text-align:center;vertical-align:bottom}\r\n",
        ".tg .tg-baqh{text-align:center;vertical-align:top}\r\n",
        ".tg .tg-8d8j{text-align:center;vertical-align:bottom}\r\n",
        "</style>\r\n",
        "<table class=\"tg\">\r\n",
        "<thead>\r\n",
        "  <tr>\r\n",
        "    <th class=\"tg-snc9\">Beneficios del instructor</th>\r\n",
        "  </tr>\r\n",
        "</thead>\r\n",
        "<tbody>\r\n",
        "  <tr>\r\n",
        "    <td class=\"tg-8d8j\">Flexibilidad</td>\r\n",
        "  </tr>\r\n",
        "  <tr>\r\n",
        "    <td class=\"tg-8d8j\">Notas de clase publicables e interactivas</td>\r\n",
        "  </tr>\r\n",
        "  <tr>\r\n",
        "    <td class=\"tg-baqh\">Reutilización y adaptación de los recursos existentes</td>\r\n",
        "  </tr>\r\n",
        "  <tr>\r\n",
        "    <td class=\"tg-8d8j\">Uso varios lenguajesidioma específico</td>\r\n",
        "  </tr>\r\n",
        "  <tr>\r\n",
        "    <td class=\"tg-8d8j\">Infraestructura en la nube</td>\r\n",
        "  </tr>\r\n",
        "</tbody>\r\n",
        "</table>\r\n",
        "\r\n"
      ],
      "execution_count": 18,
      "outputs": [
        {
          "output_type": "display_data",
          "data": {
            "text/html": [
              "\n",
              "<style type=\"text/css\">\n",
              ".tg  {border-collapse:collapse;border-spacing:0;}\n",
              ".tg td{border-color:black;border-style:solid;border-width:1px;font-family:Arial, sans-serif;font-size:14px;\n",
              "  overflow:hidden;padding:10px 5px;word-break:normal;}\n",
              ".tg th{border-color:black;border-style:solid;border-width:1px;font-family:Arial, sans-serif;font-size:14px;\n",
              "  font-weight:normal;overflow:hidden;padding:10px 5px;word-break:normal;}\n",
              ".tg .tg-snc9{background-color:#3d8eb9;color:#ffffff;text-align:center;vertical-align:bottom}\n",
              ".tg .tg-8d8j{text-align:center;vertical-align:bottom}\n",
              "</style>\n",
              "<table class=\"tg\">\n",
              "<thead>\n",
              "  <tr>\n",
              "    <th class=\"tg-snc9\">Beneficios del curso</th>\n",
              "  </tr>\n",
              "</thead>\n",
              "<tbody>\n",
              "  <tr>\n",
              "    <td class=\"tg-8d8j\">Compromiso</td>\n",
              "  </tr>\n",
              "  <tr>\n",
              "    <td class=\"tg-8d8j\">Participación</td>\n",
              "  </tr>\n",
              "  <tr>\n",
              "    <td class=\"tg-8d8j\">Mayor comprensión</td>\n",
              "  </tr>\n",
              "  <tr>\n",
              "    <td class=\"tg-8d8j\">Incrementar el desempeño de los estudiantes</td>\n",
              "  </tr>\n",
              "</tbody>\n",
              "</table>\n",
              "\n",
              "<style type=\"text/css\">\n",
              ".tg  {border-collapse:collapse;border-spacing:0;}\n",
              ".tg td{border-color:black;border-style:solid;border-width:1px;font-family:Arial, sans-serif;font-size:14px;\n",
              "  overflow:hidden;padding:10px 5px;word-break:normal;}\n",
              ".tg th{border-color:black;border-style:solid;border-width:1px;font-family:Arial, sans-serif;font-size:14px;\n",
              "  font-weight:normal;overflow:hidden;padding:10px 5px;word-break:normal;}\n",
              ".tg .tg-h1zv{background-color:#3d8eb9;color:#ffffff;text-align:left;vertical-align:bottom}\n",
              ".tg .tg-8d8j{text-align:center;vertical-align:bottom}\n",
              "</style>\n",
              "<table class=\"tg\">\n",
              "<thead>\n",
              "  <tr>\n",
              "    <th class=\"tg-h1zv\">Beneficios para estudiantes</th>\n",
              "  </tr>\n",
              "</thead>\n",
              "<tbody>\n",
              "  <tr>\n",
              "    <td class=\"tg-8d8j\">Pensamiento computacional</td>\n",
              "  </tr>\n",
              "  <tr>\n",
              "    <td class=\"tg-8d8j\">Open Source</td>\n",
              "  </tr>\n",
              "  <tr>\n",
              "    <td class=\"tg-8d8j\">Aprendizaje activo</td>\n",
              "  </tr>\n",
              "</tbody>\n",
              "</table>\n",
              "\n",
              "<style type=\"text/css\">\n",
              ".tg  {border-collapse:collapse;border-spacing:0;}\n",
              ".tg td{border-color:black;border-style:solid;border-width:1px;font-family:Arial, sans-serif;font-size:14px;\n",
              "  overflow:hidden;padding:10px 5px;word-break:normal;}\n",
              ".tg th{border-color:black;border-style:solid;border-width:1px;font-family:Arial, sans-serif;font-size:14px;\n",
              "  font-weight:normal;overflow:hidden;padding:10px 5px;word-break:normal;}\n",
              ".tg .tg-snc9{background-color:#3d8eb9;color:#ffffff;text-align:center;vertical-align:bottom}\n",
              ".tg .tg-baqh{text-align:center;vertical-align:top}\n",
              ".tg .tg-8d8j{text-align:center;vertical-align:bottom}\n",
              "</style>\n",
              "<table class=\"tg\">\n",
              "<thead>\n",
              "  <tr>\n",
              "    <th class=\"tg-snc9\">Beneficios del instructor</th>\n",
              "  </tr>\n",
              "</thead>\n",
              "<tbody>\n",
              "  <tr>\n",
              "    <td class=\"tg-8d8j\">Flexibilidad</td>\n",
              "  </tr>\n",
              "  <tr>\n",
              "    <td class=\"tg-8d8j\">Notas de clase publicables e interactivas</td>\n",
              "  </tr>\n",
              "  <tr>\n",
              "    <td class=\"tg-baqh\">Reutilización y adaptación de los recursos existentes</td>\n",
              "  </tr>\n",
              "  <tr>\n",
              "    <td class=\"tg-8d8j\">Uso varios lenguajesidioma específico</td>\n",
              "  </tr>\n",
              "  <tr>\n",
              "    <td class=\"tg-8d8j\">Infraestructura en la nube</td>\n",
              "  </tr>\n",
              "</tbody>\n",
              "</table>\n"
            ],
            "text/plain": [
              "<IPython.core.display.HTML object>"
            ]
          },
          "metadata": {
            "tags": []
          }
        }
      ]
    },
    {
      "cell_type": "code",
      "metadata": {
        "colab": {
          "base_uri": "https://localhost:8080/",
          "height": 246
        },
        "id": "N8kbDNKhO1Nc",
        "outputId": "3a3f84e2-1881-4a32-9c8a-745de3bfea39"
      },
      "source": [
        "\r\n",
        "%%html\r\n",
        "<style>\r\n",
        ".column {\r\n",
        "  float: left;\r\n",
        "  width: 33.33%;\r\n",
        "}\r\n",
        "\r\n",
        "/* Clear floats after the columns */\r\n",
        ".row:after {\r\n",
        "  content: \"\";\r\n",
        "  display: table;\r\n",
        "  clear: both;\r\n",
        "}\r\n",
        "</style>\r\n",
        "\r\n",
        "<div class=\"row\">\r\n",
        "  <div class=\"column\"><style type=\"text/css\">\r\n",
        ".tg  {border-collapse:collapse;border-spacing:0;}\r\n",
        ".tg td{border-color:black;border-style:solid;border-width:1px;font-family:Arial, sans-serif;font-size:14px;\r\n",
        "  overflow:hidden;padding:10px 5px;word-break:normal;}\r\n",
        ".tg th{border-color:black;border-style:solid;border-width:1px;font-family:Arial, sans-serif;font-size:14px;\r\n",
        "  font-weight:normal;overflow:hidden;padding:10px 5px;word-break:normal;}\r\n",
        ".tg .tg-snc9{background-color:#3d8eb9;color:#ffffff;text-align:center;vertical-align:bottom}\r\n",
        ".tg .tg-8d8j{text-align:center;vertical-align:bottom}\r\n",
        "</style>\r\n",
        "<table class=\"tg\">\r\n",
        "<thead>\r\n",
        "  <tr>\r\n",
        "    <th class=\"tg-snc9\">Beneficios del curso</th>\r\n",
        "  </tr>\r\n",
        "</thead>\r\n",
        "<tbody>\r\n",
        "  <tr>\r\n",
        "    <td class=\"tg-8d8j\">Compromiso</td>\r\n",
        "  </tr>\r\n",
        "  <tr>\r\n",
        "    <td class=\"tg-8d8j\">Participación</td>\r\n",
        "  </tr>\r\n",
        "  <tr>\r\n",
        "    <td class=\"tg-8d8j\">Mayor comprensión</td>\r\n",
        "  </tr>\r\n",
        "  <tr>\r\n",
        "    <td class=\"tg-8d8j\">Incrementar el desempeño de los estudiantes</td>\r\n",
        "  </tr>\r\n",
        "</tbody>\r\n",
        "</table></div>\r\n",
        "  <div class=\"column\"><style type=\"text/css\">\r\n",
        ".tg  {border-collapse:collapse;border-spacing:0;}\r\n",
        ".tg td{border-color:black;border-style:solid;border-width:1px;font-family:Arial, sans-serif;font-size:14px;\r\n",
        "  overflow:hidden;padding:10px 5px;word-break:normal;}\r\n",
        ".tg th{border-color:black;border-style:solid;border-width:1px;font-family:Arial, sans-serif;font-size:14px;\r\n",
        "  font-weight:normal;overflow:hidden;padding:10px 5px;word-break:normal;}\r\n",
        ".tg .tg-h1zv{background-color:#3d8eb9;color:#ffffff;text-align:left;vertical-align:bottom}\r\n",
        ".tg .tg-8d8j{text-align:center;vertical-align:bottom}\r\n",
        "</style>\r\n",
        "<table class=\"tg\">\r\n",
        "<thead>\r\n",
        "  <tr>\r\n",
        "    <th class=\"tg-h1zv\">Beneficios para estudiantes</th>\r\n",
        "  </tr>\r\n",
        "</thead>\r\n",
        "<tbody>\r\n",
        "  <tr>\r\n",
        "    <td class=\"tg-8d8j\">Pensamiento computacional</td>\r\n",
        "  </tr>\r\n",
        "  <tr>\r\n",
        "    <td class=\"tg-8d8j\">Open Source</td>\r\n",
        "  </tr>\r\n",
        "  <tr>\r\n",
        "    <td class=\"tg-8d8j\">Aprendizaje activo</td>\r\n",
        "  </tr>\r\n",
        "</tbody>\r\n",
        "</table></div>\r\n",
        "  <div class=\"column\"><style type=\"text/css\">\r\n",
        ".tg  {border-collapse:collapse;border-spacing:0;}\r\n",
        ".tg td{border-color:black;border-style:solid;border-width:1px;font-family:Arial, sans-serif;font-size:14px;\r\n",
        "  overflow:hidden;padding:10px 5px;word-break:normal;}\r\n",
        ".tg th{border-color:black;border-style:solid;border-width:1px;font-family:Arial, sans-serif;font-size:14px;\r\n",
        "  font-weight:normal;overflow:hidden;padding:10px 5px;word-break:normal;}\r\n",
        ".tg .tg-snc9{background-color:#3d8eb9;color:#ffffff;text-align:center;vertical-align:bottom}\r\n",
        ".tg .tg-baqh{text-align:center;vertical-align:top}\r\n",
        ".tg .tg-8d8j{text-align:center;vertical-align:bottom}\r\n",
        "</style>\r\n",
        "<table class=\"tg\">\r\n",
        "<thead>\r\n",
        "  <tr>\r\n",
        "    <th class=\"tg-snc9\">Beneficios del instructor</th>\r\n",
        "  </tr>\r\n",
        "</thead>\r\n",
        "<tbody>\r\n",
        "  <tr>\r\n",
        "    <td class=\"tg-8d8j\">Flexibilidad</td>\r\n",
        "  </tr>\r\n",
        "  <tr>\r\n",
        "    <td class=\"tg-8d8j\">Notas de clase publicables e interactivas</td>\r\n",
        "  </tr>\r\n",
        "  <tr>\r\n",
        "    <td class=\"tg-baqh\">Reutilización y adaptación de los recursos existentes</td>\r\n",
        "  </tr>\r\n",
        "  <tr>\r\n",
        "    <td class=\"tg-8d8j\">Uso varios lenguajesidioma específico</td>\r\n",
        "  </tr>\r\n",
        "  <tr>\r\n",
        "    <td class=\"tg-8d8j\">Infraestructura en la nube</td>\r\n",
        "  </tr>\r\n",
        "</tbody>\r\n",
        "</table>\r\n",
        "</div>\r\n",
        "</div>\r\n"
      ],
      "execution_count": 21,
      "outputs": [
        {
          "output_type": "display_data",
          "data": {
            "text/html": [
              "<style>\n",
              ".column {\n",
              "  float: left;\n",
              "  width: 33.33%;\n",
              "}\n",
              "\n",
              "/* Clear floats after the columns */\n",
              ".row:after {\n",
              "  content: \"\";\n",
              "  display: table;\n",
              "  clear: both;\n",
              "}\n",
              "</style>\n",
              "\n",
              "<div class=\"row\">\n",
              "  <div class=\"column\"><style type=\"text/css\">\n",
              ".tg  {border-collapse:collapse;border-spacing:0;}\n",
              ".tg td{border-color:black;border-style:solid;border-width:1px;font-family:Arial, sans-serif;font-size:14px;\n",
              "  overflow:hidden;padding:10px 5px;word-break:normal;}\n",
              ".tg th{border-color:black;border-style:solid;border-width:1px;font-family:Arial, sans-serif;font-size:14px;\n",
              "  font-weight:normal;overflow:hidden;padding:10px 5px;word-break:normal;}\n",
              ".tg .tg-snc9{background-color:#3d8eb9;color:#ffffff;text-align:center;vertical-align:bottom}\n",
              ".tg .tg-8d8j{text-align:center;vertical-align:bottom}\n",
              "</style>\n",
              "<table class=\"tg\">\n",
              "<thead>\n",
              "  <tr>\n",
              "    <th class=\"tg-snc9\">Beneficios del curso</th>\n",
              "  </tr>\n",
              "</thead>\n",
              "<tbody>\n",
              "  <tr>\n",
              "    <td class=\"tg-8d8j\">Compromiso</td>\n",
              "  </tr>\n",
              "  <tr>\n",
              "    <td class=\"tg-8d8j\">Participación</td>\n",
              "  </tr>\n",
              "  <tr>\n",
              "    <td class=\"tg-8d8j\">Mayor comprensión</td>\n",
              "  </tr>\n",
              "  <tr>\n",
              "    <td class=\"tg-8d8j\">Incrementar el desempeño de los estudiantes</td>\n",
              "  </tr>\n",
              "</tbody>\n",
              "</table></div>\n",
              "  <div class=\"column\"><style type=\"text/css\">\n",
              ".tg  {border-collapse:collapse;border-spacing:0;}\n",
              ".tg td{border-color:black;border-style:solid;border-width:1px;font-family:Arial, sans-serif;font-size:14px;\n",
              "  overflow:hidden;padding:10px 5px;word-break:normal;}\n",
              ".tg th{border-color:black;border-style:solid;border-width:1px;font-family:Arial, sans-serif;font-size:14px;\n",
              "  font-weight:normal;overflow:hidden;padding:10px 5px;word-break:normal;}\n",
              ".tg .tg-h1zv{background-color:#3d8eb9;color:#ffffff;text-align:left;vertical-align:bottom}\n",
              ".tg .tg-8d8j{text-align:center;vertical-align:bottom}\n",
              "</style>\n",
              "<table class=\"tg\">\n",
              "<thead>\n",
              "  <tr>\n",
              "    <th class=\"tg-h1zv\">Beneficios para estudiantes</th>\n",
              "  </tr>\n",
              "</thead>\n",
              "<tbody>\n",
              "  <tr>\n",
              "    <td class=\"tg-8d8j\">Pensamiento computacional</td>\n",
              "  </tr>\n",
              "  <tr>\n",
              "    <td class=\"tg-8d8j\">Open Source</td>\n",
              "  </tr>\n",
              "  <tr>\n",
              "    <td class=\"tg-8d8j\">Aprendizaje activo</td>\n",
              "  </tr>\n",
              "</tbody>\n",
              "</table></div>\n",
              "  <div class=\"column\"><style type=\"text/css\">\n",
              ".tg  {border-collapse:collapse;border-spacing:0;}\n",
              ".tg td{border-color:black;border-style:solid;border-width:1px;font-family:Arial, sans-serif;font-size:14px;\n",
              "  overflow:hidden;padding:10px 5px;word-break:normal;}\n",
              ".tg th{border-color:black;border-style:solid;border-width:1px;font-family:Arial, sans-serif;font-size:14px;\n",
              "  font-weight:normal;overflow:hidden;padding:10px 5px;word-break:normal;}\n",
              ".tg .tg-snc9{background-color:#3d8eb9;color:#ffffff;text-align:center;vertical-align:bottom}\n",
              ".tg .tg-baqh{text-align:center;vertical-align:top}\n",
              ".tg .tg-8d8j{text-align:center;vertical-align:bottom}\n",
              "</style>\n",
              "<table class=\"tg\">\n",
              "<thead>\n",
              "  <tr>\n",
              "    <th class=\"tg-snc9\">Beneficios del instructor</th>\n",
              "  </tr>\n",
              "</thead>\n",
              "<tbody>\n",
              "  <tr>\n",
              "    <td class=\"tg-8d8j\">Flexibilidad</td>\n",
              "  </tr>\n",
              "  <tr>\n",
              "    <td class=\"tg-8d8j\">Notas de clase publicables e interactivas</td>\n",
              "  </tr>\n",
              "  <tr>\n",
              "    <td class=\"tg-baqh\">Reutilización y adaptación de los recursos existentes</td>\n",
              "  </tr>\n",
              "  <tr>\n",
              "    <td class=\"tg-8d8j\">Uso varios lenguajesidioma específico</td>\n",
              "  </tr>\n",
              "  <tr>\n",
              "    <td class=\"tg-8d8j\">Infraestructura en la nube</td>\n",
              "  </tr>\n",
              "</tbody>\n",
              "</table>\n",
              "</div>\n",
              "</div>"
            ],
            "text/plain": [
              "<IPython.core.display.HTML object>"
            ]
          },
          "metadata": {
            "tags": []
          }
        }
      ]
    }
  ]
}